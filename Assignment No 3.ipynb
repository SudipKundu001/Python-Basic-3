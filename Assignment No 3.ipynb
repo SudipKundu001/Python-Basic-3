{
 "cells": [
  {
   "cell_type": "markdown",
   "id": "f7a3de0e",
   "metadata": {},
   "source": [
    ">__1. Why are functions advantageous to have in your programs?__"
   ]
  },
  {
   "cell_type": "markdown",
   "id": "ab333d85",
   "metadata": {},
   "source": [
    "Ans.  Functions reduce the need for duplicate code. This makes programs shorter, easier to read, and easier to update"
   ]
  },
  {
   "cell_type": "markdown",
   "id": "03ae931d",
   "metadata": {},
   "source": [
    ">__2. When does the code in a function run: when it's specified or when it's called?__"
   ]
  },
  {
   "cell_type": "markdown",
   "id": "a9671ab8",
   "metadata": {},
   "source": [
    "Ans.  A function runs when it's called."
   ]
  },
  {
   "cell_type": "markdown",
   "id": "3e268410",
   "metadata": {},
   "source": [
    ">__3. What statement creates a function?__"
   ]
  },
  {
   "cell_type": "markdown",
   "id": "ddf50240",
   "metadata": {},
   "source": [
    "Ans. The def stament follwed by function name and function parameters creates a function"
   ]
  },
  {
   "cell_type": "code",
   "execution_count": 1,
   "id": "0da099ef",
   "metadata": {},
   "outputs": [
    {
     "data": {
      "text/plain": [
       "8"
      ]
     },
     "execution_count": 1,
     "metadata": {},
     "output_type": "execute_result"
    }
   ],
   "source": [
    "#Creating the function\n",
    "def add(a,b):\n",
    "    return a+b\n",
    "\n",
    "#Calling the function\n",
    "add(3,5)"
   ]
  },
  {
   "cell_type": "markdown",
   "id": "a7212eaa",
   "metadata": {},
   "source": [
    ">__4. What is the difference between a function and a function call?__"
   ]
  },
  {
   "cell_type": "markdown",
   "id": "8e84b416",
   "metadata": {},
   "source": [
    "Ans.  The difference between the function and function call is, A function is procedure to achieve a particular result while function call is using this function to achive that task(see the above example)."
   ]
  },
  {
   "cell_type": "markdown",
   "id": "c5e580b3",
   "metadata": {},
   "source": [
    ">__5. How many global scopes are there in a Python program? How many local scopes?__"
   ]
  },
  {
   "cell_type": "markdown",
   "id": "b082de32",
   "metadata": {},
   "source": [
    "Ans.  At any given time during execution, you'll have at most four active Python scopes—local, enclosing, global, and built-in—depending on where you are in the code."
   ]
  },
  {
   "cell_type": "markdown",
   "id": "197a9a0e",
   "metadata": {},
   "source": [
    ">__6. What happens to variables in a local scope when the function call returns?__"
   ]
  },
  {
   "cell_type": "markdown",
   "id": "65e63e6e",
   "metadata": {},
   "source": [
    "Ans.  When the execution of the function terminates (returns), the local variables are destroyed.<br> See the example below \n"
   ]
  },
  {
   "cell_type": "code",
   "execution_count": 8,
   "id": "db80dacd",
   "metadata": {},
   "outputs": [
    {
     "ename": "NameError",
     "evalue": "name 'y' is not defined",
     "output_type": "error",
     "traceback": [
      "\u001b[1;31m---------------------------------------------------------------------------\u001b[0m",
      "\u001b[1;31mNameError\u001b[0m                                 Traceback (most recent call last)",
      "\u001b[1;32m<ipython-input-8-b191a19786b1>\u001b[0m in \u001b[0;36m<module>\u001b[1;34m\u001b[0m\n\u001b[0;32m      4\u001b[0m \u001b[1;33m\u001b[0m\u001b[0m\n\u001b[0;32m      5\u001b[0m \u001b[0mz\u001b[0m \u001b[1;33m=\u001b[0m \u001b[0msquare\u001b[0m\u001b[1;33m(\u001b[0m\u001b[1;36m10\u001b[0m\u001b[1;33m)\u001b[0m\u001b[1;33m\u001b[0m\u001b[1;33m\u001b[0m\u001b[0m\n\u001b[1;32m----> 6\u001b[1;33m \u001b[0mprint\u001b[0m\u001b[1;33m(\u001b[0m\u001b[0my\u001b[0m\u001b[1;33m)\u001b[0m\u001b[1;33m\u001b[0m\u001b[1;33m\u001b[0m\u001b[0m\n\u001b[0m",
      "\u001b[1;31mNameError\u001b[0m: name 'y' is not defined"
     ]
    }
   ],
   "source": [
    "def square(x):\n",
    "    y = x * x  # Local scope\n",
    "    return y\n",
    "\n",
    "z = square(10)\n",
    "print(y)       # Calling the local scope"
   ]
  },
  {
   "cell_type": "markdown",
   "id": "5daedfc6",
   "metadata": {},
   "source": [
    ">__7. What is the concept of a return value? Is it possible to have a return value in an expression?__"
   ]
  },
  {
   "cell_type": "markdown",
   "id": "8ede881e",
   "metadata": {},
   "source": [
    "Ans.  A return is a value that a function returns to the calling script or function when it completes its task. A return value can be any one of the four variable types: handle, integer, object, or string. The type of value your function returns depends largely on the task it performs.\n",
    "\n",
    "Yes, it's possible to have a return value in an expression(see below)."
   ]
  },
  {
   "cell_type": "code",
   "execution_count": 11,
   "id": "f00e6139",
   "metadata": {},
   "outputs": [
    {
     "data": {
      "text/plain": [
       "(3+6j)"
      ]
     },
     "execution_count": 11,
     "metadata": {},
     "output_type": "execute_result"
    }
   ],
   "source": [
    "def adding(a,b):\n",
    "    return (a+b)\n",
    "a=6j\n",
    "b=3\n",
    "adding(a,b)"
   ]
  },
  {
   "cell_type": "markdown",
   "id": "5ae9610e",
   "metadata": {},
   "source": [
    ">__8. If a function does not have a return statement, what is the return value of a call to that function?__"
   ]
  },
  {
   "cell_type": "markdown",
   "id": "65ca2f3d",
   "metadata": {},
   "source": [
    "Ans.  If a function doesn't specify a return value, it returns None\n"
   ]
  },
  {
   "cell_type": "markdown",
   "id": "c2bedc6e",
   "metadata": {},
   "source": [
    ">__9. How do you make a function variable refer to the global variable?__"
   ]
  },
  {
   "cell_type": "markdown",
   "id": "dcefff0c",
   "metadata": {},
   "source": [
    "Ans.  If you want to refer to a global variable in a function, you can use the global keyword to declare which variables are global."
   ]
  },
  {
   "cell_type": "code",
   "execution_count": 34,
   "id": "ab91a53f",
   "metadata": {},
   "outputs": [
    {
     "name": "stdout",
     "output_type": "stream",
     "text": [
      "I love iNeuron\n",
      "I love iNeuron\n"
     ]
    }
   ],
   "source": [
    "def f():\n",
    "    global s\n",
    "    s = \"I love iNeuron\"\n",
    "    print(s)\n",
    " \n",
    "f()              # Calling the function.\n",
    "\n",
    "print(s)         # Calling the variable outside the function."
   ]
  },
  {
   "cell_type": "markdown",
   "id": "d7b38913",
   "metadata": {},
   "source": [
    ">__10. What is the data type of None?__"
   ]
  },
  {
   "cell_type": "markdown",
   "id": "9edac8d2",
   "metadata": {},
   "source": [
    "Ans. None is a data type of its own (NoneType) and only None can be None."
   ]
  },
  {
   "cell_type": "markdown",
   "id": "e82aba03",
   "metadata": {},
   "source": [
    ">__11. What does the sentence import areallyourpetsnamederic do?__"
   ]
  },
  {
   "cell_type": "markdown",
   "id": "6bd5af70",
   "metadata": {},
   "source": [
    "Ans.  The import statement imports a module named areallyourpetsnamederic."
   ]
  },
  {
   "cell_type": "markdown",
   "id": "4f3fc0c7",
   "metadata": {},
   "source": [
    ">__12. If you had a bacon() feature in a spam module, what would you call it after importing spam?__"
   ]
  },
  {
   "cell_type": "markdown",
   "id": "c20b4469",
   "metadata": {},
   "source": [
    "Ans. It will be called a method. "
   ]
  },
  {
   "cell_type": "markdown",
   "id": "f7351713",
   "metadata": {},
   "source": [
    ">__13. What can you do to save a programme from crashing if it encounters an error?__"
   ]
  },
  {
   "cell_type": "markdown",
   "id": "e269e8f0",
   "metadata": {},
   "source": [
    "Ans.  error handling can be used to notify the user of why the error occurred and gracefully exit the process that caused the error."
   ]
  },
  {
   "cell_type": "markdown",
   "id": "c2233ed6",
   "metadata": {},
   "source": [
    ">__14. What is the purpose of the try clause? What is the purpose of the except clause?__"
   ]
  },
  {
   "cell_type": "markdown",
   "id": "67bcd94e",
   "metadata": {},
   "source": [
    "Ans. \n",
    "* The try block is used to check some code for errors i.e the code inside the try block will execute when there is no error in the program\n",
    "* except block will execute when there is an error in try block."
   ]
  }
 ],
 "metadata": {
  "kernelspec": {
   "display_name": "Python 3",
   "language": "python",
   "name": "python3"
  },
  "language_info": {
   "codemirror_mode": {
    "name": "ipython",
    "version": 3
   },
   "file_extension": ".py",
   "mimetype": "text/x-python",
   "name": "python",
   "nbconvert_exporter": "python",
   "pygments_lexer": "ipython3",
   "version": "3.8.8"
  }
 },
 "nbformat": 4,
 "nbformat_minor": 5
}
